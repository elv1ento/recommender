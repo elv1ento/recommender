{
 "cells": [
  {
   "cell_type": "markdown",
   "id": "c2f3cdb9",
   "metadata": {},
   "source": [
    "## Main idea: "
   ]
  },
  {
   "cell_type": "markdown",
   "id": "f61f077c",
   "metadata": {},
   "source": [
    "Applying Model based approach for creation collaborative filtering recommendation system to use the similarity between items using the ratings by users."
   ]
  },
  {
   "cell_type": "markdown",
   "id": "08f218b3",
   "metadata": {},
   "source": [
    "### Data cleaning and preproccesing"
   ]
  },
  {
   "cell_type": "code",
   "execution_count": 38,
   "id": "34cb9d00",
   "metadata": {},
   "outputs": [],
   "source": [
    "import pandas as pd"
   ]
  },
  {
   "cell_type": "code",
   "execution_count": 40,
   "id": "f50a35e4",
   "metadata": {},
   "outputs": [
    {
     "name": "stderr",
     "output_type": "stream",
     "text": [
      "b'Skipping line 6452: expected 8 fields, saw 9\\nSkipping line 43667: expected 8 fields, saw 10\\nSkipping line 51751: expected 8 fields, saw 9\\n'\n",
      "b'Skipping line 92038: expected 8 fields, saw 9\\nSkipping line 104319: expected 8 fields, saw 9\\nSkipping line 121768: expected 8 fields, saw 9\\n'\n",
      "b'Skipping line 144058: expected 8 fields, saw 9\\nSkipping line 150789: expected 8 fields, saw 9\\nSkipping line 157128: expected 8 fields, saw 9\\nSkipping line 180189: expected 8 fields, saw 9\\nSkipping line 185738: expected 8 fields, saw 9\\n'\n",
      "b'Skipping line 209388: expected 8 fields, saw 9\\nSkipping line 220626: expected 8 fields, saw 9\\nSkipping line 227933: expected 8 fields, saw 11\\nSkipping line 228957: expected 8 fields, saw 10\\nSkipping line 245933: expected 8 fields, saw 9\\nSkipping line 251296: expected 8 fields, saw 9\\nSkipping line 259941: expected 8 fields, saw 9\\nSkipping line 261529: expected 8 fields, saw 9\\n'\n",
      "/Users/elv1ento/PycharmProjects/DSrecommender/venv/lib/python3.7/site-packages/IPython/core/interactiveshell.py:3170: DtypeWarning: Columns (3) have mixed types.Specify dtype option on import or set low_memory=False.\n",
      "  interactivity=interactivity, compiler=compiler, result=result)\n"
     ]
    }
   ],
   "source": [
    "books_df = pd.read_csv('data/BX-CSV-Dump/BX-Books.csv',  encoding='cp1251', sep=';',error_bad_lines=False)"
   ]
  },
  {
   "cell_type": "code",
   "execution_count": 41,
   "id": "82f247dc",
   "metadata": {},
   "outputs": [
    {
     "data": {
      "text/html": [
       "<div>\n",
       "<style scoped>\n",
       "    .dataframe tbody tr th:only-of-type {\n",
       "        vertical-align: middle;\n",
       "    }\n",
       "\n",
       "    .dataframe tbody tr th {\n",
       "        vertical-align: top;\n",
       "    }\n",
       "\n",
       "    .dataframe thead th {\n",
       "        text-align: right;\n",
       "    }\n",
       "</style>\n",
       "<table border=\"1\" class=\"dataframe\">\n",
       "  <thead>\n",
       "    <tr style=\"text-align: right;\">\n",
       "      <th></th>\n",
       "      <th>ISBN</th>\n",
       "      <th>Book-Title</th>\n",
       "      <th>Book-Author</th>\n",
       "      <th>Year-Of-Publication</th>\n",
       "      <th>Publisher</th>\n",
       "      <th>Image-URL-S</th>\n",
       "      <th>Image-URL-M</th>\n",
       "      <th>Image-URL-L</th>\n",
       "    </tr>\n",
       "  </thead>\n",
       "  <tbody>\n",
       "    <tr>\n",
       "      <th>0</th>\n",
       "      <td>0195153448</td>\n",
       "      <td>Classical Mythology</td>\n",
       "      <td>Mark P. O. Morford</td>\n",
       "      <td>2002</td>\n",
       "      <td>Oxford University Press</td>\n",
       "      <td>http://images.amazon.com/images/P/0195153448.01.THUMBZZZ.jpg</td>\n",
       "      <td>http://images.amazon.com/images/P/0195153448.01.MZZZZZZZ.jpg</td>\n",
       "      <td>http://images.amazon.com/images/P/0195153448.01.LZZZZZZZ.jpg</td>\n",
       "    </tr>\n",
       "    <tr>\n",
       "      <th>1</th>\n",
       "      <td>0002005018</td>\n",
       "      <td>Clara Callan</td>\n",
       "      <td>Richard Bruce Wright</td>\n",
       "      <td>2001</td>\n",
       "      <td>HarperFlamingo Canada</td>\n",
       "      <td>http://images.amazon.com/images/P/0002005018.01.THUMBZZZ.jpg</td>\n",
       "      <td>http://images.amazon.com/images/P/0002005018.01.MZZZZZZZ.jpg</td>\n",
       "      <td>http://images.amazon.com/images/P/0002005018.01.LZZZZZZZ.jpg</td>\n",
       "    </tr>\n",
       "    <tr>\n",
       "      <th>2</th>\n",
       "      <td>0060973129</td>\n",
       "      <td>Decision in Normandy</td>\n",
       "      <td>Carlo D'Este</td>\n",
       "      <td>1991</td>\n",
       "      <td>HarperPerennial</td>\n",
       "      <td>http://images.amazon.com/images/P/0060973129.01.THUMBZZZ.jpg</td>\n",
       "      <td>http://images.amazon.com/images/P/0060973129.01.MZZZZZZZ.jpg</td>\n",
       "      <td>http://images.amazon.com/images/P/0060973129.01.LZZZZZZZ.jpg</td>\n",
       "    </tr>\n",
       "    <tr>\n",
       "      <th>3</th>\n",
       "      <td>0374157065</td>\n",
       "      <td>Flu: The Story of the Great Influenza Pandemic of 1918 and the Search for the Virus That Caused It</td>\n",
       "      <td>Gina Bari Kolata</td>\n",
       "      <td>1999</td>\n",
       "      <td>Farrar Straus Giroux</td>\n",
       "      <td>http://images.amazon.com/images/P/0374157065.01.THUMBZZZ.jpg</td>\n",
       "      <td>http://images.amazon.com/images/P/0374157065.01.MZZZZZZZ.jpg</td>\n",
       "      <td>http://images.amazon.com/images/P/0374157065.01.LZZZZZZZ.jpg</td>\n",
       "    </tr>\n",
       "    <tr>\n",
       "      <th>4</th>\n",
       "      <td>0393045218</td>\n",
       "      <td>The Mummies of Urumchi</td>\n",
       "      <td>E. J. W. Barber</td>\n",
       "      <td>1999</td>\n",
       "      <td>W. W. Norton &amp;amp; Company</td>\n",
       "      <td>http://images.amazon.com/images/P/0393045218.01.THUMBZZZ.jpg</td>\n",
       "      <td>http://images.amazon.com/images/P/0393045218.01.MZZZZZZZ.jpg</td>\n",
       "      <td>http://images.amazon.com/images/P/0393045218.01.LZZZZZZZ.jpg</td>\n",
       "    </tr>\n",
       "  </tbody>\n",
       "</table>\n",
       "</div>"
      ],
      "text/plain": [
       "         ISBN  \\\n",
       "0  0195153448   \n",
       "1  0002005018   \n",
       "2  0060973129   \n",
       "3  0374157065   \n",
       "4  0393045218   \n",
       "\n",
       "                                                                                           Book-Title  \\\n",
       "0                                                                                 Classical Mythology   \n",
       "1                                                                                        Clara Callan   \n",
       "2                                                                                Decision in Normandy   \n",
       "3  Flu: The Story of the Great Influenza Pandemic of 1918 and the Search for the Virus That Caused It   \n",
       "4                                                                              The Mummies of Urumchi   \n",
       "\n",
       "            Book-Author Year-Of-Publication                   Publisher  \\\n",
       "0    Mark P. O. Morford                2002     Oxford University Press   \n",
       "1  Richard Bruce Wright                2001       HarperFlamingo Canada   \n",
       "2          Carlo D'Este                1991             HarperPerennial   \n",
       "3      Gina Bari Kolata                1999        Farrar Straus Giroux   \n",
       "4       E. J. W. Barber                1999  W. W. Norton &amp; Company   \n",
       "\n",
       "                                                    Image-URL-S  \\\n",
       "0  http://images.amazon.com/images/P/0195153448.01.THUMBZZZ.jpg   \n",
       "1  http://images.amazon.com/images/P/0002005018.01.THUMBZZZ.jpg   \n",
       "2  http://images.amazon.com/images/P/0060973129.01.THUMBZZZ.jpg   \n",
       "3  http://images.amazon.com/images/P/0374157065.01.THUMBZZZ.jpg   \n",
       "4  http://images.amazon.com/images/P/0393045218.01.THUMBZZZ.jpg   \n",
       "\n",
       "                                                    Image-URL-M  \\\n",
       "0  http://images.amazon.com/images/P/0195153448.01.MZZZZZZZ.jpg   \n",
       "1  http://images.amazon.com/images/P/0002005018.01.MZZZZZZZ.jpg   \n",
       "2  http://images.amazon.com/images/P/0060973129.01.MZZZZZZZ.jpg   \n",
       "3  http://images.amazon.com/images/P/0374157065.01.MZZZZZZZ.jpg   \n",
       "4  http://images.amazon.com/images/P/0393045218.01.MZZZZZZZ.jpg   \n",
       "\n",
       "                                                    Image-URL-L  \n",
       "0  http://images.amazon.com/images/P/0195153448.01.LZZZZZZZ.jpg  \n",
       "1  http://images.amazon.com/images/P/0002005018.01.LZZZZZZZ.jpg  \n",
       "2  http://images.amazon.com/images/P/0060973129.01.LZZZZZZZ.jpg  \n",
       "3  http://images.amazon.com/images/P/0374157065.01.LZZZZZZZ.jpg  \n",
       "4  http://images.amazon.com/images/P/0393045218.01.LZZZZZZZ.jpg  "
      ]
     },
     "execution_count": 41,
     "metadata": {},
     "output_type": "execute_result"
    }
   ],
   "source": [
    "books_df.head()"
   ]
  },
  {
   "cell_type": "code",
   "execution_count": 42,
   "id": "1a7bfaea",
   "metadata": {},
   "outputs": [
    {
     "name": "stdout",
     "output_type": "stream",
     "text": [
      "<class 'pandas.core.frame.DataFrame'>\n",
      "RangeIndex: 271360 entries, 0 to 271359\n",
      "Data columns (total 8 columns):\n",
      " #   Column               Non-Null Count   Dtype \n",
      "---  ------               --------------   ----- \n",
      " 0   ISBN                 271360 non-null  object\n",
      " 1   Book-Title           271360 non-null  object\n",
      " 2   Book-Author          271359 non-null  object\n",
      " 3   Year-Of-Publication  271360 non-null  object\n",
      " 4   Publisher            271358 non-null  object\n",
      " 5   Image-URL-S          271360 non-null  object\n",
      " 6   Image-URL-M          271360 non-null  object\n",
      " 7   Image-URL-L          271357 non-null  object\n",
      "dtypes: object(8)\n",
      "memory usage: 16.6+ MB\n"
     ]
    }
   ],
   "source": [
    "books_df.info()"
   ]
  },
  {
   "cell_type": "code",
   "execution_count": 43,
   "id": "e7949910",
   "metadata": {},
   "outputs": [
    {
     "data": {
      "text/html": [
       "<div>\n",
       "<style scoped>\n",
       "    .dataframe tbody tr th:only-of-type {\n",
       "        vertical-align: middle;\n",
       "    }\n",
       "\n",
       "    .dataframe tbody tr th {\n",
       "        vertical-align: top;\n",
       "    }\n",
       "\n",
       "    .dataframe thead th {\n",
       "        text-align: right;\n",
       "    }\n",
       "</style>\n",
       "<table border=\"1\" class=\"dataframe\">\n",
       "  <thead>\n",
       "    <tr style=\"text-align: right;\">\n",
       "      <th></th>\n",
       "      <th>ISBN</th>\n",
       "      <th>Book-Title</th>\n",
       "      <th>Book-Author</th>\n",
       "      <th>Year-Of-Publication</th>\n",
       "      <th>Publisher</th>\n",
       "      <th>Image-URL-S</th>\n",
       "      <th>Image-URL-M</th>\n",
       "      <th>Image-URL-L</th>\n",
       "    </tr>\n",
       "  </thead>\n",
       "  <tbody>\n",
       "    <tr>\n",
       "      <th>count</th>\n",
       "      <td>271360</td>\n",
       "      <td>271360</td>\n",
       "      <td>271359</td>\n",
       "      <td>271360</td>\n",
       "      <td>271358</td>\n",
       "      <td>271360</td>\n",
       "      <td>271360</td>\n",
       "      <td>271357</td>\n",
       "    </tr>\n",
       "    <tr>\n",
       "      <th>unique</th>\n",
       "      <td>271360</td>\n",
       "      <td>242135</td>\n",
       "      <td>102023</td>\n",
       "      <td>202</td>\n",
       "      <td>16807</td>\n",
       "      <td>271044</td>\n",
       "      <td>271044</td>\n",
       "      <td>271041</td>\n",
       "    </tr>\n",
       "    <tr>\n",
       "      <th>top</th>\n",
       "      <td>096574373X</td>\n",
       "      <td>Selected Poems</td>\n",
       "      <td>Agatha Christie</td>\n",
       "      <td>2002</td>\n",
       "      <td>Harlequin</td>\n",
       "      <td>http://images.amazon.com/images/P/067165344X.01.THUMBZZZ.jpg</td>\n",
       "      <td>http://images.amazon.com/images/P/067082416X.01.MZZZZZZZ.jpg</td>\n",
       "      <td>http://images.amazon.com/images/P/006092909X.01.LZZZZZZZ.jpg</td>\n",
       "    </tr>\n",
       "    <tr>\n",
       "      <th>freq</th>\n",
       "      <td>1</td>\n",
       "      <td>27</td>\n",
       "      <td>632</td>\n",
       "      <td>13903</td>\n",
       "      <td>7535</td>\n",
       "      <td>2</td>\n",
       "      <td>2</td>\n",
       "      <td>2</td>\n",
       "    </tr>\n",
       "  </tbody>\n",
       "</table>\n",
       "</div>"
      ],
      "text/plain": [
       "              ISBN      Book-Title      Book-Author  Year-Of-Publication  \\\n",
       "count       271360          271360           271359               271360   \n",
       "unique      271360          242135           102023                  202   \n",
       "top     096574373X  Selected Poems  Agatha Christie                 2002   \n",
       "freq             1              27              632                13903   \n",
       "\n",
       "        Publisher  \\\n",
       "count      271358   \n",
       "unique      16807   \n",
       "top     Harlequin   \n",
       "freq         7535   \n",
       "\n",
       "                                                         Image-URL-S  \\\n",
       "count                                                         271360   \n",
       "unique                                                        271044   \n",
       "top     http://images.amazon.com/images/P/067165344X.01.THUMBZZZ.jpg   \n",
       "freq                                                               2   \n",
       "\n",
       "                                                         Image-URL-M  \\\n",
       "count                                                         271360   \n",
       "unique                                                        271044   \n",
       "top     http://images.amazon.com/images/P/067082416X.01.MZZZZZZZ.jpg   \n",
       "freq                                                               2   \n",
       "\n",
       "                                                         Image-URL-L  \n",
       "count                                                         271357  \n",
       "unique                                                        271041  \n",
       "top     http://images.amazon.com/images/P/006092909X.01.LZZZZZZZ.jpg  \n",
       "freq                                                               2  "
      ]
     },
     "execution_count": 43,
     "metadata": {},
     "output_type": "execute_result"
    }
   ],
   "source": [
    "books_df.describe()"
   ]
  },
  {
   "cell_type": "markdown",
   "id": "f3676de4",
   "metadata": {},
   "source": [
    "First of all, we see that the field \"ISBN\" contains only unique values and not empty values, therefore we can use it for the index."
   ]
  },
  {
   "cell_type": "code",
   "execution_count": 46,
   "id": "f9b2a1c4",
   "metadata": {},
   "outputs": [
    {
     "data": {
      "text/plain": [
       "10    271356\n",
       "13         3\n",
       "11         1\n",
       "Name: ISBN, dtype: int64"
      ]
     },
     "execution_count": 46,
     "metadata": {},
     "output_type": "execute_result"
    }
   ],
   "source": [
    "# explore the values form\n",
    "books_df.ISBN.apply(lambda x: len(x)).value_counts()"
   ]
  },
  {
   "cell_type": "code",
   "execution_count": 47,
   "id": "59400372",
   "metadata": {},
   "outputs": [
    {
     "data": {
      "text/plain": [
       "5726      096788330x\n",
       "6635      002542730x\n",
       "9907      039330678x\n",
       "11925     014062080x\n",
       "14621     042519065x\n",
       "             ...    \n",
       "266921    044118376x\n",
       "267020    088404632x\n",
       "269552    037376099x\n",
       "270227    055337365x\n",
       "270483    039304632x\n",
       "Name: ISBN, Length: 411, dtype: object"
      ]
     },
     "execution_count": 47,
     "metadata": {},
     "output_type": "execute_result"
    }
   ],
   "source": [
    "# using regular expressions to get the basic options for the field\n",
    "books_df[~books_df.ISBN.str.match(r'(\\d{10}|\\d{9}X|B\\w{9})')]['ISBN']"
   ]
  },
  {
   "cell_type": "code",
   "execution_count": 48,
   "id": "27032576",
   "metadata": {},
   "outputs": [],
   "source": [
    "books_df['ISBN'] = books_df.ISBN.apply(lambda x: x.upper())"
   ]
  },
  {
   "cell_type": "code",
   "execution_count": 49,
   "id": "6aba13c4",
   "metadata": {},
   "outputs": [
    {
     "data": {
      "text/plain": [
       "Series([], Name: ISBN, dtype: object)"
      ]
     },
     "execution_count": 49,
     "metadata": {},
     "output_type": "execute_result"
    }
   ],
   "source": [
    "books_df[~books_df.ISBN.str.match(r'(\\d{10}|\\d{9}X|B\\w{9})')]['ISBN']"
   ]
  },
  {
   "cell_type": "code",
   "execution_count": 61,
   "id": "bcd191c7",
   "metadata": {},
   "outputs": [],
   "source": [
    "rating_df = pd.read_csv('data/BX-CSV-Dump/BX-Book-Ratings.csv', encoding='cp1251', sep=';')"
   ]
  },
  {
   "cell_type": "code",
   "execution_count": 62,
   "id": "bb1fca55",
   "metadata": {},
   "outputs": [
    {
     "data": {
      "text/html": [
       "<div>\n",
       "<style scoped>\n",
       "    .dataframe tbody tr th:only-of-type {\n",
       "        vertical-align: middle;\n",
       "    }\n",
       "\n",
       "    .dataframe tbody tr th {\n",
       "        vertical-align: top;\n",
       "    }\n",
       "\n",
       "    .dataframe thead th {\n",
       "        text-align: right;\n",
       "    }\n",
       "</style>\n",
       "<table border=\"1\" class=\"dataframe\">\n",
       "  <thead>\n",
       "    <tr style=\"text-align: right;\">\n",
       "      <th></th>\n",
       "      <th>User-ID</th>\n",
       "      <th>ISBN</th>\n",
       "      <th>Book-Rating</th>\n",
       "    </tr>\n",
       "  </thead>\n",
       "  <tbody>\n",
       "    <tr>\n",
       "      <th>0</th>\n",
       "      <td>276725</td>\n",
       "      <td>034545104X</td>\n",
       "      <td>0</td>\n",
       "    </tr>\n",
       "    <tr>\n",
       "      <th>1</th>\n",
       "      <td>276726</td>\n",
       "      <td>0155061224</td>\n",
       "      <td>5</td>\n",
       "    </tr>\n",
       "    <tr>\n",
       "      <th>2</th>\n",
       "      <td>276727</td>\n",
       "      <td>0446520802</td>\n",
       "      <td>0</td>\n",
       "    </tr>\n",
       "    <tr>\n",
       "      <th>3</th>\n",
       "      <td>276729</td>\n",
       "      <td>052165615X</td>\n",
       "      <td>3</td>\n",
       "    </tr>\n",
       "    <tr>\n",
       "      <th>4</th>\n",
       "      <td>276729</td>\n",
       "      <td>0521795028</td>\n",
       "      <td>6</td>\n",
       "    </tr>\n",
       "  </tbody>\n",
       "</table>\n",
       "</div>"
      ],
      "text/plain": [
       "   User-ID        ISBN  Book-Rating\n",
       "0   276725  034545104X            0\n",
       "1   276726  0155061224            5\n",
       "2   276727  0446520802            0\n",
       "3   276729  052165615X            3\n",
       "4   276729  0521795028            6"
      ]
     },
     "execution_count": 62,
     "metadata": {},
     "output_type": "execute_result"
    }
   ],
   "source": [
    "rating_df.head()"
   ]
  },
  {
   "cell_type": "code",
   "execution_count": 63,
   "id": "11131676",
   "metadata": {},
   "outputs": [
    {
     "name": "stdout",
     "output_type": "stream",
     "text": [
      "<class 'pandas.core.frame.DataFrame'>\n",
      "RangeIndex: 1149780 entries, 0 to 1149779\n",
      "Data columns (total 3 columns):\n",
      " #   Column       Non-Null Count    Dtype \n",
      "---  ------       --------------    ----- \n",
      " 0   User-ID      1149780 non-null  int64 \n",
      " 1   ISBN         1149780 non-null  object\n",
      " 2   Book-Rating  1149780 non-null  int64 \n",
      "dtypes: int64(2), object(1)\n",
      "memory usage: 26.3+ MB\n"
     ]
    }
   ],
   "source": [
    "rating_df.info()"
   ]
  },
  {
   "cell_type": "code",
   "execution_count": 64,
   "id": "520a71f7",
   "metadata": {},
   "outputs": [],
   "source": [
    "rating_df['ISBN'] = rating_df.ISBN.apply(lambda x: x.upper())"
   ]
  },
  {
   "cell_type": "code",
   "execution_count": 65,
   "id": "98998ceb",
   "metadata": {},
   "outputs": [
    {
     "data": {
      "text/plain": [
       "10    1139363\n",
       "9        5140\n",
       "11       2150\n",
       "13       1740\n",
       "12        700\n",
       "8         677\n",
       "14         10\n",
       "Name: ISBN, dtype: int64"
      ]
     },
     "execution_count": 65,
     "metadata": {},
     "output_type": "execute_result"
    }
   ],
   "source": [
    "rating_df.ISBN.apply(lambda x: len(x)).value_counts()"
   ]
  },
  {
   "cell_type": "markdown",
   "id": "8886f268",
   "metadata": {},
   "source": [
    "There are many incorrect values of the ISBN field"
   ]
  },
  {
   "cell_type": "code",
   "execution_count": 66,
   "id": "0d19dca5",
   "metadata": {},
   "outputs": [],
   "source": [
    "# remove special characters from string\n",
    "rating_df.ISBN.replace('[^A-Za-z0-9]+', '', regex=True, inplace=True)"
   ]
  },
  {
   "cell_type": "code",
   "execution_count": 67,
   "id": "dc146db3",
   "metadata": {},
   "outputs": [
    {
     "data": {
      "text/plain": [
       "10    1140069\n",
       "9        5175\n",
       "11       1768\n",
       "13       1336\n",
       "12        694\n",
       "8         683\n",
       "7          50\n",
       "6           4\n",
       "4           1\n",
       "Name: ISBN, dtype: int64"
      ]
     },
     "execution_count": 67,
     "metadata": {},
     "output_type": "execute_result"
    }
   ],
   "source": [
    "rating_df.ISBN.apply(lambda x: len(x)).value_counts()"
   ]
  },
  {
   "cell_type": "code",
   "execution_count": 68,
   "id": "7cd5c2e0",
   "metadata": {},
   "outputs": [],
   "source": [
    "# Extracting only correct values\n",
    "rating_df['ISBN'] = rating_df.ISBN.str.extract(r'(\\d{10}|\\d{9}X|B\\w{9})')\n",
    "rating_df.dropna(subset=['ISBN'], inplace=True)"
   ]
  },
  {
   "cell_type": "code",
   "execution_count": 69,
   "id": "7bf9981e",
   "metadata": {},
   "outputs": [],
   "source": [
    "# leave only the present values in the main index\n",
    "rating_df = rating_df[rating_df.ISBN.isin(books_df.ISBN)]"
   ]
  },
  {
   "cell_type": "code",
   "execution_count": 73,
   "id": "de0e0502",
   "metadata": {},
   "outputs": [
    {
     "data": {
      "text/html": [
       "<div>\n",
       "<style scoped>\n",
       "    .dataframe tbody tr th:only-of-type {\n",
       "        vertical-align: middle;\n",
       "    }\n",
       "\n",
       "    .dataframe tbody tr th {\n",
       "        vertical-align: top;\n",
       "    }\n",
       "\n",
       "    .dataframe thead th {\n",
       "        text-align: right;\n",
       "    }\n",
       "</style>\n",
       "<table border=\"1\" class=\"dataframe\">\n",
       "  <thead>\n",
       "    <tr style=\"text-align: right;\">\n",
       "      <th></th>\n",
       "      <th>User-ID</th>\n",
       "      <th>ISBN</th>\n",
       "      <th>Book-Rating</th>\n",
       "    </tr>\n",
       "  </thead>\n",
       "  <tbody>\n",
       "    <tr>\n",
       "      <th>0</th>\n",
       "      <td>276725</td>\n",
       "      <td>034545104X</td>\n",
       "      <td>0</td>\n",
       "    </tr>\n",
       "    <tr>\n",
       "      <th>1</th>\n",
       "      <td>276726</td>\n",
       "      <td>0155061224</td>\n",
       "      <td>5</td>\n",
       "    </tr>\n",
       "    <tr>\n",
       "      <th>2</th>\n",
       "      <td>276727</td>\n",
       "      <td>0446520802</td>\n",
       "      <td>0</td>\n",
       "    </tr>\n",
       "    <tr>\n",
       "      <th>3</th>\n",
       "      <td>276729</td>\n",
       "      <td>052165615X</td>\n",
       "      <td>3</td>\n",
       "    </tr>\n",
       "    <tr>\n",
       "      <th>4</th>\n",
       "      <td>276729</td>\n",
       "      <td>0521795028</td>\n",
       "      <td>6</td>\n",
       "    </tr>\n",
       "    <tr>\n",
       "      <th>...</th>\n",
       "      <td>...</td>\n",
       "      <td>...</td>\n",
       "      <td>...</td>\n",
       "    </tr>\n",
       "    <tr>\n",
       "      <th>1149774</th>\n",
       "      <td>276704</td>\n",
       "      <td>0876044011</td>\n",
       "      <td>0</td>\n",
       "    </tr>\n",
       "    <tr>\n",
       "      <th>1149775</th>\n",
       "      <td>276704</td>\n",
       "      <td>1563526298</td>\n",
       "      <td>9</td>\n",
       "    </tr>\n",
       "    <tr>\n",
       "      <th>1149776</th>\n",
       "      <td>276706</td>\n",
       "      <td>0679447156</td>\n",
       "      <td>0</td>\n",
       "    </tr>\n",
       "    <tr>\n",
       "      <th>1149777</th>\n",
       "      <td>276709</td>\n",
       "      <td>0515107662</td>\n",
       "      <td>10</td>\n",
       "    </tr>\n",
       "    <tr>\n",
       "      <th>1149778</th>\n",
       "      <td>276721</td>\n",
       "      <td>0590442449</td>\n",
       "      <td>10</td>\n",
       "    </tr>\n",
       "  </tbody>\n",
       "</table>\n",
       "<p>1031775 rows × 3 columns</p>\n",
       "</div>"
      ],
      "text/plain": [
       "         User-ID        ISBN  Book-Rating\n",
       "0         276725  034545104X            0\n",
       "1         276726  0155061224            5\n",
       "2         276727  0446520802            0\n",
       "3         276729  052165615X            3\n",
       "4         276729  0521795028            6\n",
       "...          ...         ...          ...\n",
       "1149774   276704  0876044011            0\n",
       "1149775   276704  1563526298            9\n",
       "1149776   276706  0679447156            0\n",
       "1149777   276709  0515107662           10\n",
       "1149778   276721  0590442449           10\n",
       "\n",
       "[1031775 rows x 3 columns]"
      ]
     },
     "execution_count": 73,
     "metadata": {},
     "output_type": "execute_result"
    }
   ],
   "source": [
    "rating_df"
   ]
  },
  {
   "cell_type": "markdown",
   "id": "b00285c3",
   "metadata": {},
   "source": [
    "## Testing different approaches for building a recommender system"
   ]
  },
  {
   "cell_type": "markdown",
   "id": "142cb752",
   "metadata": {},
   "source": [
    "The easiest way to get similar items is creating a pivot table and then calculate similarity using cosine_similarity.\n",
    "\n",
    "Since our data contains more than 1M rows, we cannot use simpe Memory-based approaches to get a Matrix Factorization (MF). \n",
    "\n",
    "Therefore, I decided to test more powerful tools adapted to big data."
   ]
  },
  {
   "cell_type": "markdown",
   "id": "1349562d",
   "metadata": {},
   "source": [
    "### Using fastai models for collaborative filtering"
   ]
  },
  {
   "cell_type": "markdown",
   "id": "1f2c8eb1",
   "metadata": {},
   "source": [
    "Fastai is a deep learning which provides practitioners with high-level components that can quickly and easily provide state-of-the-art results. Fastai library is written in Python, it’s open-source and built on top of PyTorch, one of the leading modern and flexible deep learning frameworks."
   ]
  },
  {
   "cell_type": "code",
   "execution_count": 1,
   "id": "0adfaf4a",
   "metadata": {},
   "outputs": [],
   "source": [
    "from fastai.tabular.all import *\n",
    "from fastai.collab import *"
   ]
  },
  {
   "cell_type": "code",
   "execution_count": 8,
   "id": "80af717f",
   "metadata": {},
   "outputs": [],
   "source": [
    "dls = CollabDataLoaders.from_df(raiting_df, item_name='ISBN', bs=64)"
   ]
  },
  {
   "cell_type": "code",
   "execution_count": 9,
   "id": "6a655f09",
   "metadata": {},
   "outputs": [
    {
     "data": {
      "text/html": [
       "<table border=\"1\" class=\"dataframe\">\n",
       "  <thead>\n",
       "    <tr style=\"text-align: right;\">\n",
       "      <th></th>\n",
       "      <th>User-ID</th>\n",
       "      <th>ISBN</th>\n",
       "      <th>Book-Rating</th>\n",
       "    </tr>\n",
       "  </thead>\n",
       "  <tbody>\n",
       "    <tr>\n",
       "      <th>0</th>\n",
       "      <td>156150</td>\n",
       "      <td>0515090654</td>\n",
       "      <td>5</td>\n",
       "    </tr>\n",
       "    <tr>\n",
       "      <th>1</th>\n",
       "      <td>194669</td>\n",
       "      <td>0425176045</td>\n",
       "      <td>0</td>\n",
       "    </tr>\n",
       "    <tr>\n",
       "      <th>2</th>\n",
       "      <td>223191</td>\n",
       "      <td>0385730586</td>\n",
       "      <td>0</td>\n",
       "    </tr>\n",
       "    <tr>\n",
       "      <th>3</th>\n",
       "      <td>146803</td>\n",
       "      <td>0441535062</td>\n",
       "      <td>0</td>\n",
       "    </tr>\n",
       "    <tr>\n",
       "      <th>4</th>\n",
       "      <td>126374</td>\n",
       "      <td>0312181213</td>\n",
       "      <td>7</td>\n",
       "    </tr>\n",
       "    <tr>\n",
       "      <th>5</th>\n",
       "      <td>61979</td>\n",
       "      <td>0140367160</td>\n",
       "      <td>8</td>\n",
       "    </tr>\n",
       "    <tr>\n",
       "      <th>6</th>\n",
       "      <td>195904</td>\n",
       "      <td>1400032717</td>\n",
       "      <td>10</td>\n",
       "    </tr>\n",
       "    <tr>\n",
       "      <th>7</th>\n",
       "      <td>231237</td>\n",
       "      <td>0380725231</td>\n",
       "      <td>9</td>\n",
       "    </tr>\n",
       "    <tr>\n",
       "      <th>8</th>\n",
       "      <td>120610</td>\n",
       "      <td>0349113165</td>\n",
       "      <td>0</td>\n",
       "    </tr>\n",
       "    <tr>\n",
       "      <th>9</th>\n",
       "      <td>28204</td>\n",
       "      <td>0671028383</td>\n",
       "      <td>0</td>\n",
       "    </tr>\n",
       "  </tbody>\n",
       "</table>"
      ],
      "text/plain": [
       "<IPython.core.display.HTML object>"
      ]
     },
     "metadata": {},
     "output_type": "display_data"
    }
   ],
   "source": [
    "dls.show_batch()"
   ]
  },
  {
   "cell_type": "code",
   "execution_count": 10,
   "id": "da71a0c4",
   "metadata": {},
   "outputs": [],
   "source": [
    "learn = collab_learner(dls, n_factors=50, y_range=(0, 5.5))"
   ]
  },
  {
   "cell_type": "code",
   "execution_count": 11,
   "id": "c5ddc49e",
   "metadata": {},
   "outputs": [
    {
     "data": {
      "text/html": [
       "<table border=\"1\" class=\"dataframe\">\n",
       "  <thead>\n",
       "    <tr style=\"text-align: left;\">\n",
       "      <th>epoch</th>\n",
       "      <th>train_loss</th>\n",
       "      <th>valid_loss</th>\n",
       "      <th>time</th>\n",
       "    </tr>\n",
       "  </thead>\n",
       "  <tbody>\n",
       "    <tr>\n",
       "      <td>0</td>\n",
       "      <td>13.506006</td>\n",
       "      <td>13.130350</td>\n",
       "      <td>29:30</td>\n",
       "    </tr>\n",
       "    <tr>\n",
       "      <td>1</td>\n",
       "      <td>13.105197</td>\n",
       "      <td>13.119840</td>\n",
       "      <td>37:12</td>\n",
       "    </tr>\n",
       "    <tr>\n",
       "      <td>2</td>\n",
       "      <td>13.283127</td>\n",
       "      <td>13.042991</td>\n",
       "      <td>36:55</td>\n",
       "    </tr>\n",
       "    <tr>\n",
       "      <td>3</td>\n",
       "      <td>13.039341</td>\n",
       "      <td>12.966900</td>\n",
       "      <td>36:32</td>\n",
       "    </tr>\n",
       "    <tr>\n",
       "      <td>4</td>\n",
       "      <td>12.327477</td>\n",
       "      <td>12.978076</td>\n",
       "      <td>36:03</td>\n",
       "    </tr>\n",
       "  </tbody>\n",
       "</table>"
      ],
      "text/plain": [
       "<IPython.core.display.HTML object>"
      ]
     },
     "metadata": {},
     "output_type": "display_data"
    }
   ],
   "source": [
    "learn.fit_one_cycle(5, 5e-3, wd=0.1)"
   ]
  },
  {
   "cell_type": "code",
   "execution_count": 12,
   "id": "5b6c73f0",
   "metadata": {},
   "outputs": [
    {
     "data": {
      "text/html": [],
      "text/plain": [
       "<IPython.core.display.HTML object>"
      ]
     },
     "metadata": {},
     "output_type": "display_data"
    },
    {
     "name": "stderr",
     "output_type": "stream",
     "text": [
      "/Users/elv1ento/PycharmProjects/DSrecommender/venv/lib/python3.7/site-packages/fastai/callback/schedule.py:270: UserWarning: color is redundantly defined by the 'color' keyword argument and the fmt string \"ro\" (-> color='r'). The keyword argument will take precedence.\n",
      "  ax.plot(val, idx, 'ro', label=nm, c=color)\n"
     ]
    },
    {
     "data": {
      "text/plain": [
       "SuggestedLRs(valley=tensor(0.0398))"
      ]
     },
     "execution_count": 12,
     "metadata": {},
     "output_type": "execute_result"
    },
    {
     "data": {
      "image/png": "[encoded data removed]",
      "text/plain": [
       "<Figure size 432x288 with 1 Axes>"
      ]
     },
     "metadata": {
      "needs_background": "light"
     },
     "output_type": "display_data"
    }
   ],
   "source": [
    "learn.lr_find()"
   ]
  },
  {
   "cell_type": "code",
   "execution_count": 13,
   "id": "05736fbd",
   "metadata": {},
   "outputs": [
    {
     "data": {
      "text/plain": [
       "Path('models/collabor2.pth')"
      ]
     },
     "execution_count": 13,
     "metadata": {},
     "output_type": "execute_result"
    }
   ],
   "source": [
    "learn.save('collabor2')"
   ]
  },
  {
   "cell_type": "code",
   "execution_count": 14,
   "id": "336a395f",
   "metadata": {},
   "outputs": [],
   "source": [
    "learn.export('models/collabor2.pkl')"
   ]
  },
  {
   "cell_type": "markdown",
   "id": "b3be807d",
   "metadata": {},
   "source": [
    "### After training the model, we can get vectors for testing the similarity function"
   ]
  },
  {
   "cell_type": "code",
   "execution_count": 99,
   "id": "4a45a2c3",
   "metadata": {},
   "outputs": [
    {
     "data": {
      "text/plain": [
       "(1031775, 50)"
      ]
     },
     "execution_count": 99,
     "metadata": {},
     "output_type": "execute_result"
    }
   ],
   "source": [
    "item_embeddings = learn.model.weight(rating_df.ISBN, is_item = True)\n",
    "item_embeddings = np.array(item_embeddings)\n",
    "item_embeddings.shape"
   ]
  },
  {
   "cell_type": "code",
   "execution_count": 79,
   "id": "95b67852",
   "metadata": {},
   "outputs": [],
   "source": [
    "from sklearn.metrics.pairwise import linear_kernel\n",
    "from sklearn.metrics.pairwise import euclidean_distances"
   ]
  },
  {
   "cell_type": "code",
   "execution_count": 92,
   "id": "31a795cd",
   "metadata": {},
   "outputs": [],
   "source": [
    "cosine_similarities = linear_kernel(item_embeddings[0:1], item_embeddings).flatten()"
   ]
  },
  {
   "cell_type": "code",
   "execution_count": 100,
   "id": "af4aea2f",
   "metadata": {},
   "outputs": [],
   "source": [
    "related_docs_indices = cosine_similarities.argsort()[:-10:-1]"
   ]
  },
  {
   "cell_type": "code",
   "execution_count": 101,
   "id": "11da8421",
   "metadata": {},
   "outputs": [
    {
     "data": {
      "text/html": [
       "<div>\n",
       "<style scoped>\n",
       "    .dataframe tbody tr th:only-of-type {\n",
       "        vertical-align: middle;\n",
       "    }\n",
       "\n",
       "    .dataframe tbody tr th {\n",
       "        vertical-align: top;\n",
       "    }\n",
       "\n",
       "    .dataframe thead th {\n",
       "        text-align: right;\n",
       "    }\n",
       "</style>\n",
       "<table border=\"1\" class=\"dataframe\">\n",
       "  <thead>\n",
       "    <tr style=\"text-align: right;\">\n",
       "      <th></th>\n",
       "      <th>Book-Title</th>\n",
       "      <th>Book-Author</th>\n",
       "      <th>Year-Of-Publication</th>\n",
       "      <th>Publisher</th>\n",
       "    </tr>\n",
       "    <tr>\n",
       "      <th>ISBN</th>\n",
       "      <th></th>\n",
       "      <th></th>\n",
       "      <th></th>\n",
       "      <th></th>\n",
       "    </tr>\n",
       "  </thead>\n",
       "  <tbody>\n",
       "    <tr>\n",
       "      <th>0684837986</th>\n",
       "      <td>Timepiece (Christmas Box Trilogy)</td>\n",
       "      <td>Richard Paul Evans</td>\n",
       "      <td>1996</td>\n",
       "      <td>Simon &amp;amp; Schuster</td>\n",
       "    </tr>\n",
       "    <tr>\n",
       "      <th>0380818523</th>\n",
       "      <td>Something About Cecily (Avon Romance)</td>\n",
       "      <td>Karen Kendall</td>\n",
       "      <td>2001</td>\n",
       "      <td>Avon</td>\n",
       "    </tr>\n",
       "    <tr>\n",
       "      <th>0393312836</th>\n",
       "      <td>A Clockwork Orange (Norton Paperback Fiction)</td>\n",
       "      <td>Anthony Burgess</td>\n",
       "      <td>1986</td>\n",
       "      <td>W. W. Norton &amp;amp; Company</td>\n",
       "    </tr>\n",
       "    <tr>\n",
       "      <th>0449206475</th>\n",
       "      <td>The Witches of Eastwick</td>\n",
       "      <td>John Updike</td>\n",
       "      <td>1995</td>\n",
       "      <td>Fawcett Books</td>\n",
       "    </tr>\n",
       "    <tr>\n",
       "      <th>0374223270</th>\n",
       "      <td>The Notebooks of Don Rigoberto</td>\n",
       "      <td>Mario Vargas Llosa</td>\n",
       "      <td>1998</td>\n",
       "      <td>Farrar Straus Giroux</td>\n",
       "    </tr>\n",
       "    <tr>\n",
       "      <th>0671003593</th>\n",
       "      <td>An Angel for Emily</td>\n",
       "      <td>Jude Deveraux</td>\n",
       "      <td>1998</td>\n",
       "      <td>Pocket</td>\n",
       "    </tr>\n",
       "    <tr>\n",
       "      <th>0553237772</th>\n",
       "      <td>Johnny Got His Gun</td>\n",
       "      <td>Dalton Trumbo</td>\n",
       "      <td>1982</td>\n",
       "      <td>Bantam Books</td>\n",
       "    </tr>\n",
       "    <tr>\n",
       "      <th>0373871805</th>\n",
       "      <td>Silver Lining (Love Inspired)</td>\n",
       "      <td>Kate Welsh</td>\n",
       "      <td>2002</td>\n",
       "      <td>Steeple Hill</td>\n",
       "    </tr>\n",
       "    <tr>\n",
       "      <th>0439099048</th>\n",
       "      <td>Katarina: A Novel</td>\n",
       "      <td>Kathryn Winter</td>\n",
       "      <td>1999</td>\n",
       "      <td>Scholastic</td>\n",
       "    </tr>\n",
       "  </tbody>\n",
       "</table>\n",
       "</div>"
      ],
      "text/plain": [
       "                                               Book-Title         Book-Author  \\\n",
       "ISBN                                                                            \n",
       "0684837986              Timepiece (Christmas Box Trilogy)  Richard Paul Evans   \n",
       "0380818523          Something About Cecily (Avon Romance)       Karen Kendall   \n",
       "0393312836  A Clockwork Orange (Norton Paperback Fiction)     Anthony Burgess   \n",
       "0449206475                        The Witches of Eastwick         John Updike   \n",
       "0374223270                 The Notebooks of Don Rigoberto  Mario Vargas Llosa   \n",
       "0671003593                             An Angel for Emily       Jude Deveraux   \n",
       "0553237772                             Johnny Got His Gun       Dalton Trumbo   \n",
       "0373871805                  Silver Lining (Love Inspired)          Kate Welsh   \n",
       "0439099048                              Katarina: A Novel      Kathryn Winter   \n",
       "\n",
       "           Year-Of-Publication                   Publisher  \n",
       "ISBN                                                        \n",
       "0684837986                1996        Simon &amp; Schuster  \n",
       "0380818523                2001                        Avon  \n",
       "0393312836                1986  W. W. Norton &amp; Company  \n",
       "0449206475                1995               Fawcett Books  \n",
       "0374223270                1998        Farrar Straus Giroux  \n",
       "0671003593                1998                      Pocket  \n",
       "0553237772                1982                Bantam Books  \n",
       "0373871805                2002                Steeple Hill  \n",
       "0439099048                1999                  Scholastic  "
      ]
     },
     "execution_count": 101,
     "metadata": {},
     "output_type": "execute_result"
    }
   ],
   "source": [
    "books_df.set_index('ISBN').loc[rating_df.loc[related_docs_indices].ISBN].iloc[:, :-3]"
   ]
  },
  {
   "cell_type": "markdown",
   "id": "1489f2e2",
   "metadata": {},
   "source": [
    "One of the disadvantages of collab_learner is that it does not solve the cold start problem. It can only predict ratings for existing users."
   ]
  },
  {
   "cell_type": "markdown",
   "id": "9e7486b8",
   "metadata": {},
   "source": [
    "### Using Turi Create models for collaborative filtering"
   ]
  },
  {
   "cell_type": "markdown",
   "id": "51543271",
   "metadata": {},
   "source": [
    "Turi Create simplifies the development of custom machine learning models.\n",
    "\n",
    "Turi Create based on SFrame - is a scalable, tabular, column-mutable dataframe object. The data in SFrame is stored column-wise, and is stored on persistent storage (e.g. disk) to avoid being constrained by memory size. Each column in an SFrame is a size-immutable SArray, but SFrames are mutable in that columns can be added and subtracted with ease. An SFrame essentially acts as an ordered dict of SArrays."
   ]
  },
  {
   "cell_type": "code",
   "execution_count": 102,
   "id": "71f90a41",
   "metadata": {},
   "outputs": [],
   "source": [
    "import turicreate as tc"
   ]
  },
  {
   "cell_type": "code",
   "execution_count": 103,
   "id": "2688ce9d",
   "metadata": {},
   "outputs": [
    {
     "data": {
      "text/html": [
       "<pre>Finished parsing file /Users/elv1ento/PycharmProjects/DSrecommender/app/data/book_ratings_cleaned.csv</pre>"
      ],
      "text/plain": [
       "Finished parsing file /Users/elv1ento/PycharmProjects/DSrecommender/app/data/book_ratings_cleaned.csv"
      ]
     },
     "metadata": {},
     "output_type": "display_data"
    },
    {
     "data": {
      "text/html": [
       "<pre>Parsing completed. Parsed 100 lines in 0.274465 secs.</pre>"
      ],
      "text/plain": [
       "Parsing completed. Parsed 100 lines in 0.274465 secs."
      ]
     },
     "metadata": {},
     "output_type": "display_data"
    },
    {
     "name": "stdout",
     "output_type": "stream",
     "text": [
      "------------------------------------------------------\n",
      "Inferred types from first 100 line(s) of file as \n",
      "column_type_hints=[int,str,int]\n",
      "If parsing fails due to incorrect types, you can correct\n",
      "the inferred type list above and pass it to read_csv in\n",
      "the column_type_hints argument\n",
      "------------------------------------------------------\n"
     ]
    },
    {
     "data": {
      "text/html": [
       "<pre>Finished parsing file /Users/elv1ento/PycharmProjects/DSrecommender/app/data/book_ratings_cleaned.csv</pre>"
      ],
      "text/plain": [
       "Finished parsing file /Users/elv1ento/PycharmProjects/DSrecommender/app/data/book_ratings_cleaned.csv"
      ]
     },
     "metadata": {},
     "output_type": "display_data"
    },
    {
     "data": {
      "text/html": [
       "<pre>Parsing completed. Parsed 1143235 lines in 0.4612 secs.</pre>"
      ],
      "text/plain": [
       "Parsing completed. Parsed 1143235 lines in 0.4612 secs."
      ]
     },
     "metadata": {},
     "output_type": "display_data"
    }
   ],
   "source": [
    "actions = tc.SFrame.read_csv('data/book_ratings_cleaned.csv')"
   ]
  },
  {
   "cell_type": "code",
   "execution_count": 104,
   "id": "cedebd1a",
   "metadata": {},
   "outputs": [
    {
     "data": {
      "text/html": [
       "<pre>Warning: Column 'rating' ignored.</pre>"
      ],
      "text/plain": [
       "Warning: Column 'rating' ignored."
      ]
     },
     "metadata": {},
     "output_type": "display_data"
    },
    {
     "data": {
      "text/html": [
       "<pre> To use one of these as a rating column, specify the column name to be used as target rating\" and use a method that allows the use of a target.</pre>"
      ],
      "text/plain": [
       " To use one of these as a rating column, specify the column name to be used as target rating\" and use a method that allows the use of a target."
      ]
     },
     "metadata": {},
     "output_type": "display_data"
    },
    {
     "data": {
      "text/html": [
       "<pre>Preparing data set.</pre>"
      ],
      "text/plain": [
       "Preparing data set."
      ]
     },
     "metadata": {},
     "output_type": "display_data"
    },
    {
     "data": {
      "text/html": [
       "<pre>    Data has 1141499 observations with 104296 users and 333998 items.</pre>"
      ],
      "text/plain": [
       "    Data has 1141499 observations with 104296 users and 333998 items."
      ]
     },
     "metadata": {},
     "output_type": "display_data"
    },
    {
     "data": {
      "text/html": [
       "<pre>    Data prepared in: 0.71496s</pre>"
      ],
      "text/plain": [
       "    Data prepared in: 0.71496s"
      ]
     },
     "metadata": {},
     "output_type": "display_data"
    },
    {
     "data": {
      "text/html": [
       "<pre>Training model from provided data.</pre>"
      ],
      "text/plain": [
       "Training model from provided data."
      ]
     },
     "metadata": {},
     "output_type": "display_data"
    },
    {
     "data": {
      "text/html": [
       "<pre>Gathering per-item and per-user statistics.</pre>"
      ],
      "text/plain": [
       "Gathering per-item and per-user statistics."
      ]
     },
     "metadata": {},
     "output_type": "display_data"
    },
    {
     "data": {
      "text/html": [
       "<pre>+--------------------------------+------------+</pre>"
      ],
      "text/plain": [
       "+--------------------------------+------------+"
      ]
     },
     "metadata": {},
     "output_type": "display_data"
    },
    {
     "data": {
      "text/html": [
       "<pre>| Elapsed Time (Item Statistics) | % Complete |</pre>"
      ],
      "text/plain": [
       "| Elapsed Time (Item Statistics) | % Complete |"
      ]
     },
     "metadata": {},
     "output_type": "display_data"
    },
    {
     "data": {
      "text/html": [
       "<pre>+--------------------------------+------------+</pre>"
      ],
      "text/plain": [
       "+--------------------------------+------------+"
      ]
     },
     "metadata": {},
     "output_type": "display_data"
    },
    {
     "data": {
      "text/html": [
       "<pre>| 1.705ms                        | 0.75       |</pre>"
      ],
      "text/plain": [
       "| 1.705ms                        | 0.75       |"
      ]
     },
     "metadata": {},
     "output_type": "display_data"
    },
    {
     "data": {
      "text/html": [
       "<pre>| 22.404ms                       | 100        |</pre>"
      ],
      "text/plain": [
       "| 22.404ms                       | 100        |"
      ]
     },
     "metadata": {},
     "output_type": "display_data"
    },
    {
     "data": {
      "text/html": [
       "<pre>+--------------------------------+------------+</pre>"
      ],
      "text/plain": [
       "+--------------------------------+------------+"
      ]
     },
     "metadata": {},
     "output_type": "display_data"
    },
    {
     "data": {
      "text/html": [
       "<pre>Setting up lookup tables.</pre>"
      ],
      "text/plain": [
       "Setting up lookup tables."
      ]
     },
     "metadata": {},
     "output_type": "display_data"
    },
    {
     "data": {
      "text/html": [
       "<pre>Processing data in one pass using sparse lookup tables.</pre>"
      ],
      "text/plain": [
       "Processing data in one pass using sparse lookup tables."
      ]
     },
     "metadata": {},
     "output_type": "display_data"
    },
    {
     "data": {
      "text/html": [
       "<pre>+-------------------------------------+------------------+-----------------+</pre>"
      ],
      "text/plain": [
       "+-------------------------------------+------------------+-----------------+"
      ]
     },
     "metadata": {},
     "output_type": "display_data"
    },
    {
     "data": {
      "text/html": [
       "<pre>| Elapsed Time (Constructing Lookups) | Total % Complete | Items Processed |</pre>"
      ],
      "text/plain": [
       "| Elapsed Time (Constructing Lookups) | Total % Complete | Items Processed |"
      ]
     },
     "metadata": {},
     "output_type": "display_data"
    },
    {
     "data": {
      "text/html": [
       "<pre>+-------------------------------------+------------------+-----------------+</pre>"
      ],
      "text/plain": [
       "+-------------------------------------+------------------+-----------------+"
      ]
     },
     "metadata": {},
     "output_type": "display_data"
    },
    {
     "data": {
      "text/html": [
       "<pre>| 704.279ms                           | 0                | 0               |</pre>"
      ],
      "text/plain": [
       "| 704.279ms                           | 0                | 0               |"
      ]
     },
     "metadata": {},
     "output_type": "display_data"
    },
    {
     "data": {
      "text/html": [
       "<pre>| 3.71s                               | 15               | 50230           |</pre>"
      ],
      "text/plain": [
       "| 3.71s                               | 15               | 50230           |"
      ]
     },
     "metadata": {},
     "output_type": "display_data"
    },
    {
     "data": {
      "text/html": [
       "<pre>| 6.76s                               | 29.25            | 98142           |</pre>"
      ],
      "text/plain": [
       "| 6.76s                               | 29.25            | 98142           |"
      ]
     },
     "metadata": {},
     "output_type": "display_data"
    },
    {
     "data": {
      "text/html": [
       "<pre>| 9.75s                               | 36.25            | 121685          |</pre>"
      ],
      "text/plain": [
       "| 9.75s                               | 36.25            | 121685          |"
      ]
     },
     "metadata": {},
     "output_type": "display_data"
    },
    {
     "data": {
      "text/html": [
       "<pre>| 12.75s                              | 52.5             | 175361          |</pre>"
      ],
      "text/plain": [
       "| 12.75s                              | 52.5             | 175361          |"
      ]
     },
     "metadata": {},
     "output_type": "display_data"
    },
    {
     "data": {
      "text/html": [
       "<pre>| 15.77s                              | 56               | 187376          |</pre>"
      ],
      "text/plain": [
       "| 15.77s                              | 56               | 187376          |"
      ]
     },
     "metadata": {},
     "output_type": "display_data"
    },
    {
     "data": {
      "text/html": [
       "<pre>| 18.78s                              | 57.25            | 191300          |</pre>"
      ],
      "text/plain": [
       "| 18.78s                              | 57.25            | 191300          |"
      ]
     },
     "metadata": {},
     "output_type": "display_data"
    },
    {
     "data": {
      "text/html": [
       "<pre>| 21.81s                              | 57.5             | 192433          |</pre>"
      ],
      "text/plain": [
       "| 21.81s                              | 57.5             | 192433          |"
      ]
     },
     "metadata": {},
     "output_type": "display_data"
    },
    {
     "data": {
      "text/html": [
       "<pre>| 24.81s                              | 58.75            | 196312          |</pre>"
      ],
      "text/plain": [
       "| 24.81s                              | 58.75            | 196312          |"
      ]
     },
     "metadata": {},
     "output_type": "display_data"
    },
    {
     "data": {
      "text/html": [
       "<pre>| 27.83s                              | 61               | 204429          |</pre>"
      ],
      "text/plain": [
       "| 27.83s                              | 61               | 204429          |"
      ]
     },
     "metadata": {},
     "output_type": "display_data"
    },
    {
     "data": {
      "text/html": [
       "<pre>| 30.95s                              | 67.5             | 226279          |</pre>"
      ],
      "text/plain": [
       "| 30.95s                              | 67.5             | 226279          |"
      ]
     },
     "metadata": {},
     "output_type": "display_data"
    },
    {
     "data": {
      "text/html": [
       "<pre>| 34.20s                              | 74.75            | 250100          |</pre>"
      ],
      "text/plain": [
       "| 34.20s                              | 74.75            | 250100          |"
      ]
     },
     "metadata": {},
     "output_type": "display_data"
    },
    {
     "data": {
      "text/html": [
       "<pre>| 36.86s                              | 75               | 251200          |</pre>"
      ],
      "text/plain": [
       "| 36.86s                              | 75               | 251200          |"
      ]
     },
     "metadata": {},
     "output_type": "display_data"
    },
    {
     "data": {
      "text/html": [
       "<pre>| 39.92s                              | 79               | 264591          |</pre>"
      ],
      "text/plain": [
       "| 39.92s                              | 79               | 264591          |"
      ]
     },
     "metadata": {},
     "output_type": "display_data"
    },
    {
     "data": {
      "text/html": [
       "<pre>| 42.93s                              | 81               | 271182          |</pre>"
      ],
      "text/plain": [
       "| 42.93s                              | 81               | 271182          |"
      ]
     },
     "metadata": {},
     "output_type": "display_data"
    },
    {
     "data": {
      "text/html": [
       "<pre>| 45.88s                              | 93.5             | 312989          |</pre>"
      ],
      "text/plain": [
       "| 45.88s                              | 93.5             | 312989          |"
      ]
     },
     "metadata": {},
     "output_type": "display_data"
    },
    {
     "data": {
      "text/html": [
       "<pre>| 48.93s                              | 98               | 327657          |</pre>"
      ],
      "text/plain": [
       "| 48.93s                              | 98               | 327657          |"
      ]
     },
     "metadata": {},
     "output_type": "display_data"
    },
    {
     "data": {
      "text/html": [
       "<pre>| 55.35s                              | 98.25            | 328619          |</pre>"
      ],
      "text/plain": [
       "| 55.35s                              | 98.25            | 328619          |"
      ]
     },
     "metadata": {},
     "output_type": "display_data"
    },
    {
     "data": {
      "text/html": [
       "<pre>| 1m 4s                               | 99.75            | 333870          |</pre>"
      ],
      "text/plain": [
       "| 1m 4s                               | 99.75            | 333870          |"
      ]
     },
     "metadata": {},
     "output_type": "display_data"
    },
    {
     "data": {
      "text/html": [
       "<pre>| 1m 19s                              | 100              | 333998          |</pre>"
      ],
      "text/plain": [
       "| 1m 19s                              | 100              | 333998          |"
      ]
     },
     "metadata": {},
     "output_type": "display_data"
    },
    {
     "data": {
      "text/html": [
       "<pre>+-------------------------------------+------------------+-----------------+</pre>"
      ],
      "text/plain": [
       "+-------------------------------------+------------------+-----------------+"
      ]
     },
     "metadata": {},
     "output_type": "display_data"
    },
    {
     "data": {
      "text/html": [
       "<pre>Finalizing lookup tables.</pre>"
      ],
      "text/plain": [
       "Finalizing lookup tables."
      ]
     },
     "metadata": {},
     "output_type": "display_data"
    },
    {
     "data": {
      "text/html": [
       "<pre>Generating candidate set for working with new users.</pre>"
      ],
      "text/plain": [
       "Generating candidate set for working with new users."
      ]
     },
     "metadata": {},
     "output_type": "display_data"
    },
    {
     "data": {
      "text/html": [
       "<pre>Finished training in 80.6674s</pre>"
      ],
      "text/plain": [
       "Finished training in 80.6674s"
      ]
     },
     "metadata": {},
     "output_type": "display_data"
    }
   ],
   "source": [
    "training_data, validation_data = tc.recommender.util.random_split_by_user(actions, 'user_id', 'ISBN')\n",
    "model = tc.recommender.create(training_data, 'user_id', 'ISBN')"
   ]
  },
  {
   "cell_type": "markdown",
   "id": "cbba9335",
   "metadata": {},
   "source": [
    "### After training the model, we can get similar items"
   ]
  },
  {
   "cell_type": "code",
   "execution_count": 109,
   "id": "72da2cd2",
   "metadata": {},
   "outputs": [],
   "source": [
    "my_list_of_items = ['0000913154', '0001010565', '0001046438', '0001046713', '000104687X']\n",
    "similar_items = model.get_similar_items(my_list_of_items, k=20)"
   ]
  },
  {
   "cell_type": "code",
   "execution_count": 111,
   "id": "6073c8ac",
   "metadata": {},
   "outputs": [
    {
     "data": {
      "text/html": [
       "<div>\n",
       "<style scoped>\n",
       "    .dataframe tbody tr th:only-of-type {\n",
       "        vertical-align: middle;\n",
       "    }\n",
       "\n",
       "    .dataframe tbody tr th {\n",
       "        vertical-align: top;\n",
       "    }\n",
       "\n",
       "    .dataframe thead th {\n",
       "        text-align: right;\n",
       "    }\n",
       "</style>\n",
       "<table border=\"1\" class=\"dataframe\">\n",
       "  <thead>\n",
       "    <tr style=\"text-align: right;\">\n",
       "      <th></th>\n",
       "      <th>ISBN</th>\n",
       "      <th>similar</th>\n",
       "      <th>score</th>\n",
       "      <th>rank</th>\n",
       "    </tr>\n",
       "  </thead>\n",
       "  <tbody>\n",
       "    <tr>\n",
       "      <th>0</th>\n",
       "      <td>0000913154</td>\n",
       "      <td>000625277X</td>\n",
       "      <td>1.0</td>\n",
       "      <td>1</td>\n",
       "    </tr>\n",
       "    <tr>\n",
       "      <th>1</th>\n",
       "      <td>0000913154</td>\n",
       "      <td>0006331947</td>\n",
       "      <td>1.0</td>\n",
       "      <td>2</td>\n",
       "    </tr>\n",
       "    <tr>\n",
       "      <th>2</th>\n",
       "      <td>0000913154</td>\n",
       "      <td>0006547192</td>\n",
       "      <td>1.0</td>\n",
       "      <td>3</td>\n",
       "    </tr>\n",
       "    <tr>\n",
       "      <th>3</th>\n",
       "      <td>0000913154</td>\n",
       "      <td>0070240205</td>\n",
       "      <td>1.0</td>\n",
       "      <td>4</td>\n",
       "    </tr>\n",
       "    <tr>\n",
       "      <th>4</th>\n",
       "      <td>0000913154</td>\n",
       "      <td>0070395209</td>\n",
       "      <td>1.0</td>\n",
       "      <td>5</td>\n",
       "    </tr>\n",
       "    <tr>\n",
       "      <th>...</th>\n",
       "      <td>...</td>\n",
       "      <td>...</td>\n",
       "      <td>...</td>\n",
       "      <td>...</td>\n",
       "    </tr>\n",
       "    <tr>\n",
       "      <th>95</th>\n",
       "      <td>000104687X</td>\n",
       "      <td>0330500279</td>\n",
       "      <td>1.0</td>\n",
       "      <td>16</td>\n",
       "    </tr>\n",
       "    <tr>\n",
       "      <th>96</th>\n",
       "      <td>000104687X</td>\n",
       "      <td>0333391004</td>\n",
       "      <td>1.0</td>\n",
       "      <td>17</td>\n",
       "    </tr>\n",
       "    <tr>\n",
       "      <th>97</th>\n",
       "      <td>000104687X</td>\n",
       "      <td>0340549157</td>\n",
       "      <td>1.0</td>\n",
       "      <td>18</td>\n",
       "    </tr>\n",
       "    <tr>\n",
       "      <th>98</th>\n",
       "      <td>000104687X</td>\n",
       "      <td>0440108241</td>\n",
       "      <td>1.0</td>\n",
       "      <td>19</td>\n",
       "    </tr>\n",
       "    <tr>\n",
       "      <th>99</th>\n",
       "      <td>000104687X</td>\n",
       "      <td>0449206270</td>\n",
       "      <td>1.0</td>\n",
       "      <td>20</td>\n",
       "    </tr>\n",
       "  </tbody>\n",
       "</table>\n",
       "<p>100 rows × 4 columns</p>\n",
       "</div>"
      ],
      "text/plain": [
       "          ISBN     similar  score  rank\n",
       "0   0000913154  000625277X    1.0     1\n",
       "1   0000913154  0006331947    1.0     2\n",
       "2   0000913154  0006547192    1.0     3\n",
       "3   0000913154  0070240205    1.0     4\n",
       "4   0000913154  0070395209    1.0     5\n",
       "..         ...         ...    ...   ...\n",
       "95  000104687X  0330500279    1.0    16\n",
       "96  000104687X  0333391004    1.0    17\n",
       "97  000104687X  0340549157    1.0    18\n",
       "98  000104687X  0440108241    1.0    19\n",
       "99  000104687X  0449206270    1.0    20\n",
       "\n",
       "[100 rows x 4 columns]"
      ]
     },
     "execution_count": 111,
     "metadata": {},
     "output_type": "execute_result"
    }
   ],
   "source": [
    "similar_items.to_dataframe()"
   ]
  },
  {
   "cell_type": "markdown",
   "id": "2553b163",
   "metadata": {},
   "source": [
    "#### Solve \"cold-start\" problem"
   ]
  },
  {
   "cell_type": "markdown",
   "id": "319c4f42",
   "metadata": {},
   "source": [
    "Incorporating information about a new user.\n",
    "\n",
    "To improve recommendations for new users, it helps to have side information or new observation data for the user.\n",
    "\n",
    "Incorporating new side information\n",
    "To incorporate side information, we must have already created a recommender model that knows how to incorporate side features. This can be done by passing in side information to create(). For example:"
   ]
  },
  {
   "cell_type": "code",
   "execution_count": null,
   "id": "a0ea27c8",
   "metadata": {},
   "outputs": [],
   "source": [
    "\n",
    "\"\"\"\n",
    "user_info = turicreate.SFrame(\n",
    "    {\n",
    "        'user_id': ['Ann', 'Brian'],\n",
    "        'age_category': ['2', '3']\n",
    "    })\n",
    "\n",
    "m_side_info = turicreate.factorization_recommender.create(\n",
    "    data, target='rating', user_data=user_info)\n",
    "\"\"\""
   ]
  },
  {
   "cell_type": "markdown",
   "id": "2d1656db",
   "metadata": {},
   "source": [
    "Now, we can add side information for the new user at recommendation time. The new side information must contain a column with the same name as the column in the training data that's designated as the 'user_id'. "
   ]
  },
  {
   "cell_type": "code",
   "execution_count": null,
   "id": "1c2dfb13",
   "metadata": {},
   "outputs": [],
   "source": [
    "# add new user\n",
    "\n",
    "\"\"\"\n",
    "m.recommend(['Charlie'])\n",
    "new_user_info = turicreate.SFrame(\n",
    "    {\n",
    "        'user_id' : ['Charlie'],\n",
    "        'age_category' : ['2']\n",
    "    })\n",
    "\n",
    "recommendations = m_side_info.recommend(\n",
    "    ['Charlie'], new_user_data = new_user_info)\n",
    "\"\"\""
   ]
  },
  {
   "cell_type": "markdown",
   "id": "cdaa880e",
   "metadata": {},
   "source": [
    "### Conclusions:"
   ]
  },
  {
   "cell_type": "markdown",
   "id": "68199f25",
   "metadata": {},
   "source": [
    "This notebook covered some powerful tools for creating a collaborative filtering recommendation system in a couple of lines of code. I settled on the implementation of Turi Create for the further construction of a hybrid recommender system, since I find it more suitable for my purpose."
   ]
  },
  {
   "cell_type": "markdown",
   "id": "99827d22",
   "metadata": {},
   "source": [
    "### Ways to improve:"
   ]
  },
  {
   "cell_type": "markdown",
   "id": "dd910a51",
   "metadata": {},
   "source": [
    "To build a more effective recommendation system using Turi Create, we can use the third table 'BX-Users' to incorporate side features for solving \"cold-start\" problem."
   ]
  },
  {
   "cell_type": "code",
   "execution_count": null,
   "id": "077bcc9b",
   "metadata": {},
   "outputs": [],
   "source": []
  }
 ],
 "metadata": {
  "kernelspec": {
   "display_name": "Python 3",
   "language": "python",
   "name": "python3"
  },
  "language_info": {
   "codemirror_mode": {
    "name": "ipython",
    "version": 3
   },
   "file_extension": ".py",
   "mimetype": "text/x-python",
   "name": "python",
   "nbconvert_exporter": "python",
   "pygments_lexer": "ipython3",
   "version": "3.7.3"
  }
 },
 "nbformat": 4,
 "nbformat_minor": 5
}
